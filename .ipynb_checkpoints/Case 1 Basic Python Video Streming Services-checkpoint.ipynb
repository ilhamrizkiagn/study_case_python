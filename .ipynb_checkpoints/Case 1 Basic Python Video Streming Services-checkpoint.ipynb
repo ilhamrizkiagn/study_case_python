{
 "cells": [
  {
   "cell_type": "code",
   "execution_count": 2,
   "metadata": {},
   "outputs": [
    {
     "name": "stdout",
     "output_type": "stream",
     "text": [
      "Collecting tabulate\n",
      "  Using cached tabulate-0.9.0-py3-none-any.whl (35 kB)\n",
      "Installing collected packages: tabulate\n",
      "Successfully installed tabulate-0.9.0\n"
     ]
    }
   ],
   "source": [
    "!pip install tabulate"
   ]
  },
  {
   "cell_type": "code",
   "execution_count": 3,
   "metadata": {},
   "outputs": [],
   "source": [
    "# import library\n",
    "from tabulate import tabulate"
   ]
  },
  {
   "cell_type": "markdown",
   "metadata": {},
   "source": [
    "# Case I : Video Streaming Services\n",
    "Pertemuan 13 - 14\n",
    "Python - Sekolah Data - Pacmann Academy"
   ]
  },
  {
   "cell_type": "markdown",
   "metadata": {},
   "source": [
    "## Table Plan"
   ]
  },
  {
   "cell_type": "markdown",
   "metadata": {},
   "source": [
    "| **Basic Plan**       | **Standard Plan**                                       | **Premium Plan**                                               | **Services**   |\n",
    "|----------------------|---------------------------------------------------------|----------------------------------------------------------------|----------------|\n",
    "| ✓                    | ✓                                                       | ✓                                                              | can_stream     |\n",
    "| ✓                    | ✓                                                       | ✓                                                              | can_download   |\n",
    "| ✓                    | ✓                                                       | ✓                                                              | has_SD         |\n",
    "|                      | ✓                                                       | ✓                                                              | has_HD         |\n",
    "|                      |                                                         | ✓                                                              | has_UHD        |\n",
    "| 1                    | 2                                                       | 4                                                              | num_of_devices |\n",
    "| 3rd party movie only | Basic Plan Content + Sports  (F1, Football, Basketball) | Basic Plan + Standard Plan +  PacFlix Original Series or Movie | content        |\n",
    "| Rp 120.000,-         | Rp 160.000,-                                            | Rp 200.000,-                                                   | price          |"
   ]
  },
  {
   "cell_type": "markdown",
   "metadata": {},
   "source": [
    "## Features List yang dibutuhkan\n",
    "- [ ] `check_benefit()` --> tampilkan semua benefit\n",
    "- [ ] `check_plan(username)` --> tampilkan benefit yang didapatkan dan udah langganan berapa lama (done)\n",
    "- [ ] `upgrade_plan(username, current_plan, new_plan)` --> harga final, if langganan > 12 bulan akan dapet diskon 5% \n",
    "- [ ] `pick_plan(new_plan, code_referral)` --> untuk new user, harga final kalo pake kode referral dapet diskon 4% "
   ]
  },
  {
   "cell_type": "markdown",
   "metadata": {},
   "source": [
    "### Create Data"
   ]
  },
  {
   "cell_type": "code",
   "execution_count": 4,
   "metadata": {},
   "outputs": [],
   "source": [
    "# tinggal di run saja\n",
    "data = {\n",
    "    \"Shandy\": [\"Basic Plan\", 12, \"shandy-2134\"],\n",
    "    \"Cahya\": [\"Standard Plan\", 24, \"cahya-abcd\"],\n",
    "    \"Ana\": [\"Premium Plan\", 5, \"ana-2f9g\"],\n",
    "    \"Bagus\": [\"Basic Plan\", 11, \"bagus-9f92\"]\n",
    "}"
   ]
  },
  {
   "cell_type": "markdown",
   "metadata": {},
   "source": [
    "#### Create User Class "
   ]
  },
  {
   "cell_type": "code",
   "execution_count": 154,
   "metadata": {},
   "outputs": [],
   "source": [
    "# isilah titik - titik di bawah ini\n",
    "class User:\n",
    "    table = [[True, True, True, 'can_stream'],\n",
    "            [True, True, True, 'can_download'],\n",
    "            [True, True, True, 'has_SD'],\n",
    "            [False, True, True, 'has_HD'],\n",
    "            [False, False, True, 'has_UHD'],\n",
    "            [1, 2, 4, 'num_of_devices'],\n",
    "            ['3rd party movie only', 'Basic Plan Content\\n+ Sports (F1, Football, Basketball)', 'Basic Plan + Standard Plan\\n+ PacFlix Original Series or Movie', 'content'],\n",
    "            [120000, 160000, 200000, 'price (Rp)']]\n",
    "        \n",
    "    headers = ['Basic Plan', 'Standard Plan', 'Premium Plan', 'Services']\n",
    "    \n",
    "    # memanggil atribut instance\n",
    "    def __init__(self, username, duration_plan, current_plan):\n",
    "        self.username = username\n",
    "        self.current_plan = current_plan\n",
    "        self.duration_plan = duration_plan\n",
    "    \n",
    "    # melakukan cek benefit pada seluruh plan\n",
    "    def check_benefit(self):\n",
    "        print('PacFlix Plan List')\n",
    "        print(tabulate(self.table, headers=self.headers))\n",
    "    \n",
    "    # cek benefit pada saat ini\n",
    "    def check_plan(self):\n",
    "        table_display = []\n",
    "        if data[self.username][0] == 'Basic Plan':\n",
    "            for tab in self.table:\n",
    "                table_display.append([tab[0],tab[3]])\n",
    "            header_basic = [headers[0],headers[3]]\n",
    "            \n",
    "            # tampilkan benefit basic plan\n",
    "            print(self.current_plan)\n",
    "            print(f'{self.duration_plan} Bulan')\n",
    "            print(f'{self.current_plan} PacFlix Benefit List')\n",
    "            print(tabulate(table_display, headers=header_basic))\n",
    "        \n",
    "        elif data[self.username][0] == 'Standard Plan':\n",
    "            for tab in self.table:\n",
    "                table_display.append([tab[1],tab[3]])\n",
    "            header_standard = [headers[1],headers[3]]\n",
    "            \n",
    "            # tampilkan benefit standard plan\n",
    "            print(self.current_plan)\n",
    "            print(f'{self.duration_plan} Bulan')\n",
    "            print(f'{self.current_plan} PacFlix Benefit List')\n",
    "            print(tabulate(table_display, headers=header_standard))\n",
    "        \n",
    "        elif data[self.username][0] == 'Premium Plan':\n",
    "            for tab in self.table:\n",
    "                table_display.append([tab[2],tab[3]])\n",
    "            header_premium = [headers[2],headers[3]]\n",
    "            \n",
    "            # tampilkan benefit premium plan\n",
    "            print(self.current_plan)\n",
    "            print(f'{self.duration_plan} Bulan')\n",
    "            print(f'{self.current_plan} PacFlix Benefit List')\n",
    "            print(tabulate(table_display, headers=header_premium))\n",
    "        \n",
    "        else:\n",
    "            print('Plan you mention not available')\n",
    "    \n",
    "    # apabila ingin upgrade plan\n",
    "    def upgrade_plan(self, new_plan):\n",
    "        if headers.index(new_plan) > headers.index(self.current_plan):\n",
    "            if self.duration_plan > 12:\n",
    "                fee = table[-1][headers.index(new_plan)]\n",
    "                discount = fee*0.05\n",
    "                final_fee = fee - discount\n",
    "            else:\n",
    "                final_fee = table[-1][headers.index(new_plan)]\n",
    "            return final_fee\n",
    "        else:\n",
    "            return 'Maaf Anda tidak bisa downgrade'"
   ]
  },
  {
   "cell_type": "code",
   "execution_count": 155,
   "metadata": {},
   "outputs": [],
   "source": [
    "user_1 = User(\"Shandy\", 12, \"Basic Plan\")"
   ]
  },
  {
   "cell_type": "code",
   "execution_count": 156,
   "metadata": {},
   "outputs": [
    {
     "data": {
      "text/plain": [
       "('Shandy', 12, 'Basic Plan')"
      ]
     },
     "execution_count": 156,
     "metadata": {},
     "output_type": "execute_result"
    }
   ],
   "source": [
    "# check attribute in Class\n",
    "user_1.username, user_1.duration_plan, user_1.current_plan"
   ]
  },
  {
   "cell_type": "markdown",
   "metadata": {},
   "source": [
    "### Test Case 1 "
   ]
  },
  {
   "cell_type": "code",
   "execution_count": 157,
   "metadata": {},
   "outputs": [
    {
     "name": "stdout",
     "output_type": "stream",
     "text": [
      "PacFlix Plan List\n",
      "Basic Plan            Standard Plan                        Premium Plan                        Services\n",
      "--------------------  -----------------------------------  ----------------------------------  --------------\n",
      "True                  True                                 True                                can_stream\n",
      "True                  True                                 True                                can_download\n",
      "True                  True                                 True                                has_SD\n",
      "False                 True                                 True                                has_HD\n",
      "False                 False                                True                                has_UHD\n",
      "1                     2                                    4                                   num_of_devices\n",
      "3rd party movie only  Basic Plan Content                   Basic Plan + Standard Plan          content\n",
      "                      + Sports (F1, Football, Basketball)  + PacFlix Original Series or Movie\n",
      "120000                160000                               200000                              price (Rp)\n"
     ]
    }
   ],
   "source": [
    "user_1.check_benefit()"
   ]
  },
  {
   "cell_type": "markdown",
   "metadata": {},
   "source": [
    "### Test Case 2"
   ]
  },
  {
   "cell_type": "code",
   "execution_count": 158,
   "metadata": {},
   "outputs": [
    {
     "name": "stdout",
     "output_type": "stream",
     "text": [
      "Basic Plan\n",
      "12 Bulan\n",
      "Basic Plan PacFlix Benefit List\n",
      "Basic Plan            Services\n",
      "--------------------  --------------\n",
      "True                  can_stream\n",
      "True                  can_download\n",
      "True                  has_SD\n",
      "False                 has_HD\n",
      "False                 has_UHD\n",
      "1                     num_of_devices\n",
      "3rd party movie only  content\n",
      "120000                price (Rp)\n"
     ]
    }
   ],
   "source": [
    "user_1.check_plan()"
   ]
  },
  {
   "cell_type": "markdown",
   "metadata": {},
   "source": [
    "### Test Case 3 "
   ]
  },
  {
   "cell_type": "code",
   "execution_count": 159,
   "metadata": {},
   "outputs": [
    {
     "data": {
      "text/plain": [
       "160000"
      ]
     },
     "execution_count": 159,
     "metadata": {},
     "output_type": "execute_result"
    }
   ],
   "source": [
    "user_1.upgrade_plan('Standard Plan')"
   ]
  },
  {
   "cell_type": "markdown",
   "metadata": {},
   "source": [
    "#### Testing with another Object "
   ]
  },
  {
   "cell_type": "code",
   "execution_count": 160,
   "metadata": {},
   "outputs": [],
   "source": [
    "user_2 = User(\"Cahya\", 24, \"Standard Plan\")"
   ]
  },
  {
   "cell_type": "code",
   "execution_count": 161,
   "metadata": {},
   "outputs": [
    {
     "name": "stdout",
     "output_type": "stream",
     "text": [
      "PacFlix Plan List\n",
      "Basic Plan            Standard Plan                        Premium Plan                        Services\n",
      "--------------------  -----------------------------------  ----------------------------------  --------------\n",
      "True                  True                                 True                                can_stream\n",
      "True                  True                                 True                                can_download\n",
      "True                  True                                 True                                has_SD\n",
      "False                 True                                 True                                has_HD\n",
      "False                 False                                True                                has_UHD\n",
      "1                     2                                    4                                   num_of_devices\n",
      "3rd party movie only  Basic Plan Content                   Basic Plan + Standard Plan          content\n",
      "                      + Sports (F1, Football, Basketball)  + PacFlix Original Series or Movie\n",
      "120000                160000                               200000                              price (Rp)\n"
     ]
    }
   ],
   "source": [
    "user_2.check_benefit()"
   ]
  },
  {
   "cell_type": "code",
   "execution_count": 162,
   "metadata": {},
   "outputs": [
    {
     "name": "stdout",
     "output_type": "stream",
     "text": [
      "Standard Plan\n",
      "24 Bulan\n",
      "Standard Plan PacFlix Benefit List\n",
      "Standard Plan                        Services\n",
      "-----------------------------------  --------------\n",
      "True                                 can_stream\n",
      "True                                 can_download\n",
      "True                                 has_SD\n",
      "True                                 has_HD\n",
      "False                                has_UHD\n",
      "2                                    num_of_devices\n",
      "Basic Plan Content                   content\n",
      "+ Sports (F1, Football, Basketball)\n",
      "160000                               price (Rp)\n"
     ]
    }
   ],
   "source": [
    "user_2.check_plan()"
   ]
  },
  {
   "cell_type": "code",
   "execution_count": 163,
   "metadata": {},
   "outputs": [
    {
     "data": {
      "text/plain": [
       "190000.0"
      ]
     },
     "execution_count": 163,
     "metadata": {},
     "output_type": "execute_result"
    }
   ],
   "source": [
    "user_2.upgrade_plan('Premium Plan')"
   ]
  },
  {
   "cell_type": "markdown",
   "metadata": {},
   "source": [
    "### Create New User Object "
   ]
  },
  {
   "cell_type": "code",
   "execution_count": 149,
   "metadata": {},
   "outputs": [],
   "source": [
    "# isi titik - titik di bawah ini\n",
    "class NewUser:\n",
    "    table = [[True, True, True, 'can_stream'],\n",
    "            [True, True, True, 'can_download'],\n",
    "            [True, True, True, 'has_SD'],\n",
    "            [False, True, True, 'has_HD'],\n",
    "            [False, False, True, 'has_UHD'],\n",
    "            [1, 2, 4, 'num_of_devices'],\n",
    "            ['3rd party movie only', 'Basic Plan Content\\n+ Sports (F1, Football, Basketball)', 'Basic Plan + Standard Plan\\n+ PacFlix Original Series or Movie', 'content'],\n",
    "            [120000, 160000, 200000, 'price (Rp)']]\n",
    "        \n",
    "    headers = ['Basic Plan', 'Standard Plan', 'Premium Plan', 'Services']\n",
    "    \n",
    "    # memanggil atribut instance\n",
    "    def __init__(self, username):\n",
    "        self.username = username\n",
    "        \n",
    "    # melakukan cek benefit pada seluruh plan\n",
    "    def check_benefit(self):\n",
    "        print('PacFlix Plan List')\n",
    "        print(tabulate(self.table, headers=self.headers))\n",
    "    \n",
    "    def pick_plan(self, new_plan, referral_code):\n",
    "        fee = table[-1][headers.index(new_plan)]\n",
    "        if referral_code in data_list:\n",
    "            print('referral code exist')\n",
    "            discount = fee*0.04\n",
    "            final_fee = fee - discount\n",
    "        \n",
    "        else:\n",
    "            print(\"referral code doesn't exist\")\n",
    "            final_fee = fee\n",
    "            \n",
    "        return final_fee"
   ]
  },
  {
   "cell_type": "markdown",
   "metadata": {},
   "source": [
    "#### Create Object for NewUser Class"
   ]
  },
  {
   "cell_type": "code",
   "execution_count": 150,
   "metadata": {},
   "outputs": [],
   "source": [
    "faizal = NewUser(\"faizal_icikiwir\")"
   ]
  },
  {
   "cell_type": "code",
   "execution_count": 151,
   "metadata": {},
   "outputs": [
    {
     "name": "stdout",
     "output_type": "stream",
     "text": [
      "PacFlix Plan List\n",
      "Basic Plan            Standard Plan                        Premium Plan                        Services\n",
      "--------------------  -----------------------------------  ----------------------------------  --------------\n",
      "True                  True                                 True                                can_stream\n",
      "True                  True                                 True                                can_download\n",
      "True                  True                                 True                                has_SD\n",
      "False                 True                                 True                                has_HD\n",
      "False                 False                                True                                has_UHD\n",
      "1                     2                                    4                                   num_of_devices\n",
      "3rd party movie only  Basic Plan Content                   Basic Plan + Standard Plan          content\n",
      "                      + Sports (F1, Football, Basketball)  + PacFlix Original Series or Movie\n",
      "120000                160000                               200000                              price (Rp)\n"
     ]
    }
   ],
   "source": [
    "faizal.check_benefit()"
   ]
  },
  {
   "cell_type": "markdown",
   "metadata": {},
   "source": [
    "#### Convert Data to List "
   ]
  },
  {
   "cell_type": "code",
   "execution_count": 146,
   "metadata": {},
   "outputs": [
    {
     "data": {
      "text/plain": [
       "['Basic Plan',\n",
       " 12,\n",
       " 'shandy-2134',\n",
       " 'Standard Plan',\n",
       " 24,\n",
       " 'cahya-abcd',\n",
       " 'Premium Plan',\n",
       " 5,\n",
       " 'ana-2f9g',\n",
       " 'Basic Plan',\n",
       " 11,\n",
       " 'bagus-9f92']"
      ]
     },
     "execution_count": 146,
     "metadata": {},
     "output_type": "execute_result"
    }
   ],
   "source": [
    "data_list = []\n",
    "for value in data.values():\n",
    "    for v in value:\n",
    "        data_list.append(v)\n",
    "    \n",
    "data_list"
   ]
  },
  {
   "cell_type": "code",
   "execution_count": 152,
   "metadata": {},
   "outputs": [
    {
     "name": "stdout",
     "output_type": "stream",
     "text": [
      "referral code exist\n"
     ]
    },
    {
     "data": {
      "text/plain": [
       "115200.0"
      ]
     },
     "execution_count": 152,
     "metadata": {},
     "output_type": "execute_result"
    }
   ],
   "source": [
    "faizal.pick_plan('Basic Plan', 'bagus-9f92')"
   ]
  },
  {
   "cell_type": "code",
   "execution_count": 153,
   "metadata": {},
   "outputs": [
    {
     "name": "stdout",
     "output_type": "stream",
     "text": [
      "referral code doesn't exist\n"
     ]
    },
    {
     "data": {
      "text/plain": [
       "120000"
      ]
     },
     "execution_count": 153,
     "metadata": {},
     "output_type": "execute_result"
    }
   ],
   "source": [
    "faizal.pick_plan('Basic Plan', 'indira-22gs')"
   ]
  }
 ],
 "metadata": {
  "kernelspec": {
   "display_name": "Python 3",
   "language": "python",
   "name": "python3"
  },
  "language_info": {
   "codemirror_mode": {
    "name": "ipython",
    "version": 3
   },
   "file_extension": ".py",
   "mimetype": "text/x-python",
   "name": "python",
   "nbconvert_exporter": "python",
   "pygments_lexer": "ipython3",
   "version": "3.8.3"
  }
 },
 "nbformat": 4,
 "nbformat_minor": 4
}

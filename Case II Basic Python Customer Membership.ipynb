{
 "cells": [
  {
   "cell_type": "markdown",
   "metadata": {},
   "source": [
    "# Case II : Customer Membership\n",
    "Pertemuan 13 - 14 Python - Sekolah Data - Pacmann Academy"
   ]
  },
  {
   "cell_type": "markdown",
   "metadata": {},
   "source": [
    "#### Membership Table "
   ]
  },
  {
   "cell_type": "markdown",
   "metadata": {},
   "source": [
    "| **Membership** | **Discount** |                     **Another Benefit**                     |\n",
    "|:--------------:|:------------:|:-----------------------------------------------------------:|\n",
    "|    Platinum    |      15%     | Benefit Silver + Gold + Voucher Liburan + Cashback max. 30% |\n",
    "|      Gold      |      10%     | Benefit Silver + Voucher Ojek Online                        |\n",
    "|     Silver     |      8%      | Voucher Makanan                                             |"
   ]
  },
  {
   "cell_type": "markdown",
   "metadata": {},
   "source": [
    "#### Requirements Membership Table "
   ]
  },
  {
   "cell_type": "markdown",
   "metadata": {},
   "source": [
    "| **Membership** | **Monthly Expense (juta)** | **Monthly Income (juta)** |\n",
    "|:--------------:|:--------------------------:|:-------------------------:|\n",
    "|    Platinum    |              8             | 15                        |\n",
    "|      Gold      |              6             | 10                        |\n",
    "|     Silver     |              5             | 7                         |"
   ]
  },
  {
   "cell_type": "markdown",
   "metadata": {},
   "source": [
    "### Features List\n",
    "- [ ] `show_benefit()` --> show all membership benefit (table 1)\n",
    "- [ ] `show_requirements()` --> show all requirements untuk menjadi membership (table 2)\n",
    "- [ ] `predict_membership(monthly_expense, monthly_income)` --> memprediksi user akan masuk ke dalam membership mana berdasarkan input parameter dan parameter masing - masing membership\n",
    "- [ ] `calculate_price(membership, list_harga_barang)` --> menghitung final price yang harus dibayarkan, terus akan mendapatkan diskon sesuai dengan ketentuan membership"
   ]
  },
  {
   "cell_type": "markdown",
   "metadata": {},
   "source": [
    "### Import Library "
   ]
  },
  {
   "cell_type": "code",
   "execution_count": 1,
   "metadata": {},
   "outputs": [],
   "source": [
    "# untuk membuat table\n",
    "from tabulate import tabulate\n",
    "\n",
    "# square root, untuk menghitung euclidean distance\n",
    "from math import sqrt"
   ]
  },
  {
   "cell_type": "markdown",
   "metadata": {},
   "source": [
    "### Create Membership Class \n",
    "\n",
    "Data yang harus dibuat Username dan Membership untuk existing user:\n",
    "- Sumbul: Platinum\n",
    "- Ana: Gold\n",
    "- Cahya: Platinum"
   ]
  },
  {
   "cell_type": "code",
   "execution_count": 107,
   "metadata": {},
   "outputs": [],
   "source": [
    "# isi titik - titik di bawah ini\n",
    "class Membership:\n",
    "    \n",
    "    # inisialisasi data\n",
    "    data = {\n",
    "        \"Sumbul\": \"Platinum\",\n",
    "        \"Ana\": \"Gold\",\n",
    "        \"Cahya\": \"Platinum\"\n",
    "    }\n",
    "    \n",
    "    member_table = [\n",
    "        ['Platinum', '15%', 'Benefit Silver + Gold + Voucher Liburan + Cashback max. 30%'],\n",
    "        ['Gold', '10%', 'Benefit Silver + Voucher Ojek Online'],\n",
    "        ['Silver', '8%', 'Voucher Makanan']\n",
    "    ]\n",
    "    \n",
    "    member_header = ['Membership','Discount','Another Benefit']\n",
    "    \n",
    "    req_table = [\n",
    "        ['Platinum', 8, 15],\n",
    "        ['Gold', 6, 10],\n",
    "        ['Silver', 5, 7]\n",
    "    ]\n",
    "    \n",
    "    req_header = ['Membership', 'Monthly Expense (juta)', 'Monthly Income (juta)']\n",
    "    \n",
    "    # inisialisai attribute\n",
    "    def __init__(self, username, monthly_expense, monthly_income):\n",
    "        self.username = username\n",
    "        self.monthly_expense = monthly_expense\n",
    "        self.monthly_income = monthly_income\n",
    "        \n",
    "    # method untuk menampilkan benefit membership\n",
    "    def benefit_membership(self):\n",
    "        print('Benefit Membership PacCommerce')\n",
    "        print(tabulate(self.member_table, headers=self.member_header))\n",
    "        \n",
    "    # method untuk menampilkan requirements membership\n",
    "    def req_membership(self):\n",
    "        print('Requirements Membership PacCommerce')\n",
    "        print(tabulate(self.req_table, headers=self.req_header))\n",
    "        \n",
    "    # method untuk melakukan prediksi membership\n",
    "    # menggunakan euclidean distance\n",
    "    def predict_membership(self):\n",
    "        jarak_platinum = round(sqrt((self.monthly_expense-8)**2 + (self.monthly_income-15)**2),2)\n",
    "        jarak_gold = round(sqrt((self.monthly_expense-6)**2 + (self.monthly_income-10)**2),2)\n",
    "        jarak_silver = round(sqrt((self.monthly_expense-5)**2 + (self.monthly_income-7)**2),2)\n",
    "        \n",
    "        jarak_list = {'Platinum': jarak_platinum, 'Gold': jarak_gold, 'Silver': jarak_silver}\n",
    "        print(f'Hasil perhitungan Euclidean Distance dari user Shandy adalah {jarak_list}')\n",
    "        predict = [key for key, value in jarak_list.items() if value == min(jarak_list.values())]\n",
    "              \n",
    "        return predict[0]\n",
    "    \n",
    "    # method untuk menampilkan membership yang dimiliki\n",
    "    # dari database yang dimiliki\n",
    "    def new_member(self, predict):\n",
    "        self.data.update({self.username: predict})\n",
    "              \n",
    "        return self.data\n",
    "    \n",
    "    # method untuk menghitung final price berdasarkan membership\n",
    "    def calculate_price(self, list_harga):\n",
    "        total = sum(list_harga)\n",
    "        if self.data[self.username] == 'Platinum':\n",
    "            total_price = total - (total*0.15)\n",
    "        elif self.data[self.username] == 'Gold':\n",
    "            total_price = total - (total*0.1)\n",
    "        else:\n",
    "            total_price = total - (total*0.08)\n",
    "              \n",
    "        return total_price"
   ]
  },
  {
   "cell_type": "code",
   "execution_count": 108,
   "metadata": {},
   "outputs": [],
   "source": [
    "# membuat Instance\n",
    "shandy = Membership('Shandy', 9, 12)"
   ]
  },
  {
   "cell_type": "markdown",
   "metadata": {},
   "source": [
    "#### Mengecek data yang ada\n"
   ]
  },
  {
   "cell_type": "code",
   "execution_count": 109,
   "metadata": {},
   "outputs": [
    {
     "name": "stdout",
     "output_type": "stream",
     "text": [
      "{'Sumbul': 'Platinum', 'Ana': 'Gold', 'Cahya': 'Platinum'}\n"
     ]
    }
   ],
   "source": [
    "data = {\n",
    "        'Sumbul':'Platinum',\n",
    "        'Ana':'Gold',\n",
    "        'Cahya':'Platinum'\n",
    "    }\n",
    "\n",
    "print(data)"
   ]
  },
  {
   "cell_type": "markdown",
   "metadata": {},
   "source": [
    "#### Test Case 1"
   ]
  },
  {
   "cell_type": "code",
   "execution_count": 110,
   "metadata": {},
   "outputs": [
    {
     "name": "stdout",
     "output_type": "stream",
     "text": [
      "Benefit Membership PacCommerce\n",
      "Membership    Discount    Another Benefit\n",
      "------------  ----------  -----------------------------------------------------------\n",
      "Platinum      15%         Benefit Silver + Gold + Voucher Liburan + Cashback max. 30%\n",
      "Gold          10%         Benefit Silver + Voucher Ojek Online\n",
      "Silver        8%          Voucher Makanan\n"
     ]
    }
   ],
   "source": [
    "# isi titik - titik di bawah ini\n",
    "shandy.benefit_membership()"
   ]
  },
  {
   "cell_type": "markdown",
   "metadata": {},
   "source": [
    "#### Test Case 2 "
   ]
  },
  {
   "cell_type": "code",
   "execution_count": 111,
   "metadata": {},
   "outputs": [
    {
     "name": "stdout",
     "output_type": "stream",
     "text": [
      "Requirements Membership PacCommerce\n",
      "Membership      Monthly Expense (juta)    Monthly Income (juta)\n",
      "------------  ------------------------  -----------------------\n",
      "Platinum                             8                       15\n",
      "Gold                                 6                       10\n",
      "Silver                               5                        7\n"
     ]
    }
   ],
   "source": [
    "# isi titik - titik di bawah ini\n",
    "shandy.req_membership()"
   ]
  },
  {
   "cell_type": "markdown",
   "metadata": {},
   "source": [
    "#### Test Case 3 \n",
    "Masukkan parameter `monthly_expense = 9` dan `monthly_income = 12`"
   ]
  },
  {
   "cell_type": "code",
   "execution_count": 112,
   "metadata": {},
   "outputs": [
    {
     "name": "stdout",
     "output_type": "stream",
     "text": [
      "Hasil perhitungan Euclidean Distance dari user Shandy adalah {'Platinum': 3.16, 'Gold': 3.61, 'Silver': 6.4}\n"
     ]
    },
    {
     "data": {
      "text/plain": [
       "'Platinum'"
      ]
     },
     "execution_count": 112,
     "metadata": {},
     "output_type": "execute_result"
    }
   ],
   "source": [
    "shandy.predict_membership()"
   ]
  },
  {
   "cell_type": "markdown",
   "metadata": {},
   "source": [
    "#### Tampilkan data yang terbaru "
   ]
  },
  {
   "cell_type": "code",
   "execution_count": 113,
   "metadata": {},
   "outputs": [
    {
     "name": "stdout",
     "output_type": "stream",
     "text": [
      "Hasil perhitungan Euclidean Distance dari user Shandy adalah {'Platinum': 3.16, 'Gold': 3.61, 'Silver': 6.4}\n"
     ]
    },
    {
     "data": {
      "text/plain": [
       "{'Sumbul': 'Platinum',\n",
       " 'Ana': 'Gold',\n",
       " 'Cahya': 'Platinum',\n",
       " 'Shandy': 'Platinum'}"
      ]
     },
     "execution_count": 113,
     "metadata": {},
     "output_type": "execute_result"
    }
   ],
   "source": [
    "shandy.new_member(shandy.predict_membership())"
   ]
  },
  {
   "cell_type": "code",
   "execution_count": 114,
   "metadata": {},
   "outputs": [
    {
     "data": {
      "text/plain": [
       "{'Sumbul': 'Platinum',\n",
       " 'Ana': 'Gold',\n",
       " 'Cahya': 'Platinum',\n",
       " 'Shandy': 'Platinum'}"
      ]
     },
     "execution_count": 114,
     "metadata": {},
     "output_type": "execute_result"
    }
   ],
   "source": [
    "shandy.data"
   ]
  },
  {
   "cell_type": "markdown",
   "metadata": {},
   "source": [
    "#### Test Case 4\n",
    "Masukkan list harga barang yang harus dihitung `[150_000, 200_000, 400_000]`"
   ]
  },
  {
   "cell_type": "code",
   "execution_count": 115,
   "metadata": {},
   "outputs": [
    {
     "data": {
      "text/plain": [
       "637500.0"
      ]
     },
     "execution_count": 115,
     "metadata": {},
     "output_type": "execute_result"
    }
   ],
   "source": [
    "list_harga = [150_000, 200_000, 400_000]\n",
    "shandy.calculate_price(list_harga)"
   ]
  },
  {
   "cell_type": "markdown",
   "metadata": {},
   "source": [
    "### Coba dengan User lain\n",
    "- User dengan username `\"Bambang\"`\n",
    "- `monthly_expense = 3` dan `monthly_income = 4`\n",
    "- List harga barangnya `[300_000, 150_000, 1_250_000, 15_000]`"
   ]
  },
  {
   "cell_type": "code",
   "execution_count": 116,
   "metadata": {},
   "outputs": [],
   "source": [
    "bambang = Membership('Bambang', 3, 4)"
   ]
  },
  {
   "cell_type": "code",
   "execution_count": 117,
   "metadata": {},
   "outputs": [
    {
     "name": "stdout",
     "output_type": "stream",
     "text": [
      "Hasil perhitungan Euclidean Distance dari user Shandy adalah {'Platinum': 12.08, 'Gold': 6.71, 'Silver': 3.61}\n"
     ]
    },
    {
     "data": {
      "text/plain": [
       "'Silver'"
      ]
     },
     "execution_count": 117,
     "metadata": {},
     "output_type": "execute_result"
    }
   ],
   "source": [
    "bambang.predict_membership()"
   ]
  },
  {
   "cell_type": "code",
   "execution_count": 119,
   "metadata": {},
   "outputs": [
    {
     "name": "stdout",
     "output_type": "stream",
     "text": [
      "Hasil perhitungan Euclidean Distance dari user Shandy adalah {'Platinum': 12.08, 'Gold': 6.71, 'Silver': 3.61}\n"
     ]
    },
    {
     "data": {
      "text/plain": [
       "{'Sumbul': 'Platinum',\n",
       " 'Ana': 'Gold',\n",
       " 'Cahya': 'Platinum',\n",
       " 'Shandy': 'Platinum',\n",
       " 'Bambang': 'Silver'}"
      ]
     },
     "execution_count": 119,
     "metadata": {},
     "output_type": "execute_result"
    }
   ],
   "source": [
    "bambang.new_member(bambang.predict_membership())"
   ]
  },
  {
   "cell_type": "code",
   "execution_count": 120,
   "metadata": {},
   "outputs": [
    {
     "data": {
      "text/plain": [
       "1577800.0"
      ]
     },
     "execution_count": 120,
     "metadata": {},
     "output_type": "execute_result"
    }
   ],
   "source": [
    "list_harga_2 = [300_000, 150_000, 1_250_000, 15_000]\n",
    "bambang.calculate_price(list_harga_2)"
   ]
  }
 ],
 "metadata": {
  "kernelspec": {
   "display_name": "Python 3",
   "language": "python",
   "name": "python3"
  },
  "language_info": {
   "codemirror_mode": {
    "name": "ipython",
    "version": 3
   },
   "file_extension": ".py",
   "mimetype": "text/x-python",
   "name": "python",
   "nbconvert_exporter": "python",
   "pygments_lexer": "ipython3",
   "version": "3.8.3"
  }
 },
 "nbformat": 4,
 "nbformat_minor": 4
}
